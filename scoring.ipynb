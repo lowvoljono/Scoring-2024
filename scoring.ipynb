{
 "cells": [
  {
   "cell_type": "code",
   "execution_count": 17,
   "metadata": {},
   "outputs": [],
   "source": [
    "import pandas as pd\n",
    "import numpy as np\n",
    "import hvplot\n",
    "import matplotlib\n",
    "import statsmodels.api as sm\n",
    "import xlsxwriter\n",
    "import math\n",
    "\n",
    "#data\n",
    "data = pd.read_csv('aussie_equities_scoring_python_15072024.csv', index_col=0, encoding='latin-1')\n",
    "data1 = data.apply(lambda x: pd.to_numeric(x, errors='coerce'))\n",
    "data2 = data1.copy()\n",
    "data2.columns = [data1.columns, data.iloc[0]]\n",
    "data1.columns = data.iloc[0]\n",
    "data_cleaned = data1.iloc[1:]\n",
    "\n",
    "#tracking error\n",
    "excess_return = data_cleaned.iloc[:,5:].sub(data_cleaned.iloc[:,:1]['Market'], axis=0)\n",
    "tracking_errors = excess_return.std() * math.sqrt(12)\n",
    "tracking_errors.index = data2.iloc[:,5:].columns\n",
    "\n",
    "#beta estimation\n",
    "output = {}\n",
    "output2 = {}\n",
    "for i in data_cleaned.iloc[:,5:].columns:\n",
    "    y = data_cleaned[i]\n",
    "    x = data_cleaned.iloc[:,:5]\n",
    "    if y.count() < 24:\n",
    "            output[i] = np.nan\n",
    "            output2[i] = np.nan\n",
    "    else: \n",
    "        model = sm.OLS(y, sm.add_constant(x), missing='drop').fit()\n",
    "        output[i] = model.params\n",
    "        output2[i] = model.tvalues\n",
    "\n",
    "coefficients = pd.DataFrame(output)\n",
    "tstats = pd.DataFrame(output2)\n",
    "coefficients.columns = data2.iloc[:,5:].columns\n",
    "tstats.columns = data2.iloc[:,5:].columns\n",
    "\n",
    "#classification\n",
    "classifications = []\n",
    "for i in tstats.columns:\n",
    "    ranks = tstats[i].sort_values(axis=0, ascending = False)\n",
    "    ranks_cleaned = ranks.drop(['Market','const'],axis=0)\n",
    "\n",
    "    if tracking_errors.loc[i] < 0.01:\n",
    "        classifications.append('Beta')\n",
    "        \n",
    "    elif ranks_cleaned.iloc[0] > 2.581:\n",
    "        if not (ranks_cleaned.index[-1] == 'Value' and ranks_cleaned.loc['Value'] < -2.581 and (abs(ranks_cleaned.loc['Value']) > ranks_cleaned.iloc[0])):\n",
    "            classifications.append(ranks_cleaned.index[0])\n",
    "        else:\n",
    "            classifications.append('Growth')\n",
    "\n",
    "    elif (ranks_cleaned.loc['Value'] < -2.581 and (abs(ranks_cleaned.loc['Value']) > ranks_cleaned.iloc[0])):\n",
    "        classifications.append('Growth')\n",
    "\n",
    "    elif tracking_errors.loc[i] < 0.02:\n",
    "        classifications.append('Beta')\n",
    "\n",
    "    else:\n",
    "        classifications.append('Alpha')\n",
    "    \n",
    "\n",
    "final_df = tstats.T\n",
    "final_df['Classification'] = classifications\n",
    "final_df['Tracking Error'] = tracking_errors"
   ]
  },
  {
   "cell_type": "code",
   "execution_count": 19,
   "metadata": {},
   "outputs": [
    {
     "data": {
      "text/html": [
       "<div>\n",
       "<style scoped>\n",
       "    .dataframe tbody tr th:only-of-type {\n",
       "        vertical-align: middle;\n",
       "    }\n",
       "\n",
       "    .dataframe tbody tr th {\n",
       "        vertical-align: top;\n",
       "    }\n",
       "\n",
       "    .dataframe thead th {\n",
       "        text-align: right;\n",
       "    }\n",
       "</style>\n",
       "<table border=\"1\" class=\"dataframe\">\n",
       "  <thead>\n",
       "    <tr style=\"text-align: right;\">\n",
       "      <th></th>\n",
       "      <th>const</th>\n",
       "      <th>Market</th>\n",
       "      <th>Value</th>\n",
       "      <th>Size</th>\n",
       "      <th>Momentum</th>\n",
       "      <th>Quality</th>\n",
       "      <th>Classification</th>\n",
       "      <th>Tracking Error</th>\n",
       "    </tr>\n",
       "  </thead>\n",
       "  <tbody>\n",
       "    <tr>\n",
       "      <th>Invesco WS Aus Share</th>\n",
       "      <td>-1.642129</td>\n",
       "      <td>59.804784</td>\n",
       "      <td>2.760967</td>\n",
       "      <td>1.584648</td>\n",
       "      <td>-0.117955</td>\n",
       "      <td>5.264531</td>\n",
       "      <td>Quality</td>\n",
       "      <td>0.026821</td>\n",
       "    </tr>\n",
       "  </tbody>\n",
       "</table>\n",
       "</div>"
      ],
      "text/plain": [
       "                         const     Market     Value      Size  Momentum  \\\n",
       "Invesco WS Aus Share -1.642129  59.804784  2.760967  1.584648 -0.117955   \n",
       "\n",
       "                       Quality Classification  Tracking Error  \n",
       "Invesco WS Aus Share  5.264531        Quality        0.026821  "
      ]
     },
     "execution_count": 19,
     "metadata": {},
     "output_type": "execute_result"
    }
   ],
   "source": [
    "final_df.xs('CNA0811AU',axis=0,level=1)"
   ]
  },
  {
   "cell_type": "code",
   "execution_count": 20,
   "metadata": {},
   "outputs": [],
   "source": [
    "final_df.to_csv('new_scoring.csv')"
   ]
  },
  {
   "cell_type": "code",
   "execution_count": 265,
   "metadata": {},
   "outputs": [],
   "source": [
    "#bennelong trial\n",
    "a = tstats[(    'Bennelong Concentrated Australian Eq', 'BFL0002AU')].sort_values(axis=0, ascending = False).drop(['Market','const'],axis=0)\n",
    "#a.index[-1] == 'Value' and a.iloc[-1] < -2.581 and (abs(a.iloc[-1]) >a.iloc[0])"
   ]
  }
 ],
 "metadata": {
  "kernelspec": {
   "display_name": "Python 3",
   "language": "python",
   "name": "python3"
  },
  "language_info": {
   "codemirror_mode": {
    "name": "ipython",
    "version": 3
   },
   "file_extension": ".py",
   "mimetype": "text/x-python",
   "name": "python",
   "nbconvert_exporter": "python",
   "pygments_lexer": "ipython3",
   "version": "3.12.4"
  }
 },
 "nbformat": 4,
 "nbformat_minor": 2
}
