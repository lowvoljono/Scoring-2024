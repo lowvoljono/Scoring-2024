{
 "cells": [
  {
   "cell_type": "markdown",
   "metadata": {},
   "source": [
    "# Classification & Scoring"
   ]
  },
  {
   "cell_type": "markdown",
   "metadata": {},
   "source": [
    "Classification"
   ]
  },
  {
   "cell_type": "code",
   "execution_count": null,
   "metadata": {},
   "outputs": [],
   "source": [
    "import pandas as pd\n",
    "import numpy as np\n",
    "import hvplot.pandas\n",
    "import matplotlib\n",
    "import statsmodels.api as sm\n",
    "import xlsxwriter\n",
    "import math\n",
    "from statsmodels.regression.rolling import RollingOLS\n",
    "import holoviews as hv\n",
    "\n",
    "#data\n",
    "data = pd.read_csv('aussie_equities_scoring_python_15072024.csv', index_col=0, encoding='latin-1')\n",
    "data1 = data.apply(lambda x: pd.to_numeric(x, errors='coerce'))\n",
    "data2 = data1.copy()\n",
    "data2.columns = [data1.columns, data.iloc[0]]\n",
    "data1.columns = data.iloc[0]\n",
    "data_cleaned = data1.iloc[1:]\n",
    "\n",
    "#tracking error\n",
    "excess_return = data_cleaned.iloc[:,5:].sub(data_cleaned.iloc[:,:1]['Market'], axis=0)\n",
    "tracking_errors = excess_return.std() * math.sqrt(12)\n",
    "tracking_errors.index = data2.iloc[:,5:].columns\n",
    "\n",
    "#beta estimation\n",
    "output = {}\n",
    "output2 = {}\n",
    "for i in data_cleaned.iloc[:,5:].columns:\n",
    "    y = data_cleaned[i]\n",
    "    x = data_cleaned.iloc[:,:5]\n",
    "    if y.count() < 24:\n",
    "            output[i] = np.nan\n",
    "            output2[i] = np.nan\n",
    "    else: \n",
    "        model = sm.OLS(y, sm.add_constant(x), missing='drop').fit()\n",
    "        output[i] = model.params\n",
    "        output2[i] = model.tvalues\n",
    "\n",
    "coefficients = pd.DataFrame(output)\n",
    "tstats = pd.DataFrame(output2)\n",
    "coefficients.columns = data2.iloc[:,5:].columns\n",
    "tstats.columns = data2.iloc[:,5:].columns\n",
    "\n",
    "#classification\n",
    "classifications = []\n",
    "for i in tstats.columns:\n",
    "    ranks = tstats[i].sort_values(axis=0, ascending = False)\n",
    "    ranks_cleaned = ranks.drop(['Market','const'],axis=0)\n",
    "\n",
    "    if tracking_errors.loc[i] < 0.01:\n",
    "        classifications.append('Beta')\n",
    "        \n",
    "    elif ranks_cleaned.iloc[0] > 2.581:\n",
    "        if not (ranks_cleaned.index[-1] == 'Value' and ranks_cleaned.loc['Value'] < -2.581 and (abs(ranks_cleaned.loc['Value']) > ranks_cleaned.iloc[0])):\n",
    "            classifications.append(ranks_cleaned.index[0])\n",
    "        else:\n",
    "            classifications.append('Growth')\n",
    "\n",
    "    elif (ranks_cleaned.loc['Value'] < -2.581 and (abs(ranks_cleaned.loc['Value']) > ranks_cleaned.iloc[0])):\n",
    "        classifications.append('Growth')\n",
    "\n",
    "    elif tracking_errors.loc[i] < 0.02:\n",
    "        classifications.append('Beta')\n",
    "\n",
    "    else:\n",
    "        classifications.append('Alpha')\n",
    "    \n",
    "\n",
    "final_df = tstats.T\n",
    "final_df['Classification'] = classifications\n",
    "final_df['Tracking Error'] = tracking_errors"
   ]
  },
  {
   "cell_type": "markdown",
   "metadata": {},
   "source": [
    "Find:"
   ]
  },
  {
   "cell_type": "code",
   "execution_count": 1,
   "metadata": {},
   "outputs": [],
   "source": [
    "# final_df.xs('DNR Capital Aus Eq High Conviction R',axis=0,level=0)"
   ]
  },
  {
   "cell_type": "markdown",
   "metadata": {},
   "source": [
    "Rolling visualization:"
   ]
  },
  {
   "cell_type": "code",
   "execution_count": null,
   "metadata": {},
   "outputs": [],
   "source": [
    "exog = sm.add_constant(data_cleaned.iloc[:,:5], prepend=False)\n",
    "mod = RollingOLS(data_cleaned['PIM0028AU'], exog, window=36, missing='drop').fit()\n",
    "mod.params.index = pd.to_datetime(mod.params.index)\n",
    "plot = mod.params.dropna().iloc[10:,1:-1].hvplot(rot=90, title='DNR', width=800, height=500)\n",
    "hline = hv.HLine(0).opts(color='gray',line_width = 0.75)\n",
    "combo = plot * hline\n",
    "combo"
   ]
  },
  {
   "cell_type": "markdown",
   "metadata": {},
   "source": [
    "Actual Scoring:"
   ]
  },
  {
   "cell_type": "code",
   "execution_count": null,
   "metadata": {},
   "outputs": [],
   "source": [
    "df_import = pd.read_csv('aussie_equities_scoring_python_15072024.csv', index_col=0, encoding='latin-1')\n",
    "data1 = df_import.apply(lambda x: pd.to_numeric(x, errors='coerce'))\n",
    "data2 = data1.copy()\n",
    "data2.columns = [data1.columns, df_import.iloc[0]]\n",
    "data_cleaned = data2.iloc[1:]\n",
    "\n",
    "df_export = final_df #pd.read_csv('new_scoring.csv')\n",
    "\n",
    "#create a classification df\n",
    "classification = df_export[['Unnamed: 0', 'apir_ticker', 'Classification']]\n",
    "classification.index = classification['apir_ticker']\n",
    "\n",
    "#beta estimation\n",
    "output = {}\n",
    "output2 = {}\n",
    "\n",
    "data_drop_level_0 = data_cleaned.droplevel(axis=1,level=0)\n",
    "\n",
    "for i in data_drop_level_0.iloc[:,5:].columns:\n",
    "    y = data_drop_level_0.loc[:,i].iloc[-120:]\n",
    "    \n",
    "    if classification.loc[i]['Classification'] == 'Beta' or classification.loc[i]['Classification'] == 'Alpha':\n",
    "        x = data_drop_level_0.loc[:,'Market'].iloc[-120:]\n",
    "\n",
    "    else: \n",
    "        classification_value = classification.loc[i]['Classification']\n",
    "        if classification_value == 'Growth':\n",
    "            columns_to_select = ['Market', 'Value']\n",
    "            x = data_drop_level_0.loc[:, columns_to_select].iloc[-120:]\n",
    "            x['Value'] = -x['Value']\n",
    "            x = x.rename(columns={'Value':'Growth'})\n",
    "\n",
    "        else:\n",
    "            columns_to_select = ['Market', classification_value]\n",
    "            x = data_drop_level_0.loc[:, columns_to_select].iloc[-120:]\n",
    "\n",
    "    if y.count() < 24: \n",
    "            output[i] = np.nan\n",
    "            output2[i] = np.nan\n",
    "        \n",
    "    else: \n",
    "        model = sm.OLS(y, sm.add_constant(x), missing='drop').fit()\n",
    "        output[i] = model.params\n",
    "        output2[i] = model.rsquared\n",
    "\n",
    "coefficients = pd.DataFrame(output)\n",
    "coefficients.columns = data2.iloc[:,5:].columns\n",
    "coefficients = coefficients.T\n",
    "coefs = coefficients.reset_index()\n",
    "coefs.index = coefs['apir_ticker']\n",
    "coefs['classification'] = classification['Classification']"
   ]
  }
 ],
 "metadata": {
  "kernelspec": {
   "display_name": "Python 3",
   "language": "python",
   "name": "python3"
  },
  "language_info": {
   "codemirror_mode": {
    "name": "ipython",
    "version": 3
   },
   "file_extension": ".py",
   "mimetype": "text/x-python",
   "name": "python",
   "nbconvert_exporter": "python",
   "pygments_lexer": "ipython3",
   "version": "3.12.4"
  }
 },
 "nbformat": 4,
 "nbformat_minor": 2
}
